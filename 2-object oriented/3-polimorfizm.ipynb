{
 "cells": [
  {
   "cell_type": "markdown",
   "id": "0c08b4f9-56c2-4c0c-8582-be7f328d41ce",
   "metadata": {},
   "source": [
    "**polymorphism**"
   ]
  },
  {
   "cell_type": "code",
   "execution_count": 3,
   "id": "85eacfe7-314d-404a-923d-9bdd7cc27684",
   "metadata": {},
   "outputs": [],
   "source": [
    "#aynı isimli sınıflara, gelen argümanlara göre farklı işlem yaptırmaktır"
   ]
  },
  {
   "cell_type": "code",
   "execution_count": 17,
   "id": "f32d1747-1762-4d95-a081-3caf08fd8504",
   "metadata": {},
   "outputs": [],
   "source": [
    "class Elma():\n",
    "    def __init__(self,isim):\n",
    "        self.isim = isim\n",
    "\n",
    "    def bilgiVer(self):\n",
    "        return self.isim + \" 100 kaloridir\""
   ]
  },
  {
   "cell_type": "code",
   "execution_count": 19,
   "id": "1c1b19cf-b46e-466c-8acf-6674321414e6",
   "metadata": {},
   "outputs": [],
   "source": [
    "class Muz():\n",
    "    def __init__(self,isim):\n",
    "        self.isim = isim\n",
    "\n",
    "    def bilgiVer(self):\n",
    "        return self.isim + \" 100 kaloridir\""
   ]
  },
  {
   "cell_type": "code",
   "execution_count": 21,
   "id": "ef0baa5a-6729-4fda-b869-c3627be126f1",
   "metadata": {},
   "outputs": [],
   "source": [
    "elma = Elma(\"elma\")"
   ]
  },
  {
   "cell_type": "code",
   "execution_count": 23,
   "id": "275ee632-8cd6-4137-ad68-e0c8d762ab2c",
   "metadata": {},
   "outputs": [],
   "source": [
    "muz = Muz(\"muz\")"
   ]
  },
  {
   "cell_type": "code",
   "execution_count": 25,
   "id": "1b93f12f-3720-4af9-8126-2d8f65f0d05c",
   "metadata": {},
   "outputs": [],
   "source": [
    "meyveListesi = [elma, muz]"
   ]
  },
  {
   "cell_type": "code",
   "execution_count": 27,
   "id": "403df758-28e2-4121-b4ee-87404ce6c721",
   "metadata": {},
   "outputs": [
    {
     "name": "stdout",
     "output_type": "stream",
     "text": [
      "elma 100 kaloridir\n",
      "muz 100 kaloridir\n"
     ]
    }
   ],
   "source": [
    "for meyve in meyveListesi:\n",
    "    print(meyve.bilgiVer())"
   ]
  },
  {
   "cell_type": "code",
   "execution_count": null,
   "id": "7e3b04db-2c19-4a89-a3d5-342f9213a531",
   "metadata": {},
   "outputs": [],
   "source": []
  }
 ],
 "metadata": {
  "kernelspec": {
   "display_name": "Python 3 (ipykernel)",
   "language": "python",
   "name": "python3"
  },
  "language_info": {
   "codemirror_mode": {
    "name": "ipython",
    "version": 3
   },
   "file_extension": ".py",
   "mimetype": "text/x-python",
   "name": "python",
   "nbconvert_exporter": "python",
   "pygments_lexer": "ipython3",
   "version": "3.12.4"
  }
 },
 "nbformat": 4,
 "nbformat_minor": 5
}
