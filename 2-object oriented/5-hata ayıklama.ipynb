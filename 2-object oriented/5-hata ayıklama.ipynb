{
 "cells": [
  {
   "cell_type": "markdown",
   "id": "38f52bbc-2df7-4316-95c4-b8c0bd36f8c7",
   "metadata": {},
   "source": [
    "**HATA AYIKLAMA**"
   ]
  },
  {
   "cell_type": "code",
   "execution_count": 4,
   "id": "12086a9a-7d39-4527-a153-7e3876cba07e",
   "metadata": {},
   "outputs": [],
   "source": [
    "#try & except & else & finally"
   ]
  },
  {
   "cell_type": "code",
   "execution_count": 1,
   "id": "4707c339-a6cd-4b64-8bb1-3fb9295cfe40",
   "metadata": {},
   "outputs": [
    {
     "name": "stdin",
     "output_type": "stream",
     "text": [
      "numara giriniz gökhan\n"
     ]
    },
    {
     "name": "stdout",
     "output_type": "stream",
     "text": [
      "gerçek bir numara giriniz\n",
      "finally çağırıldı\n"
     ]
    },
    {
     "name": "stdin",
     "output_type": "stream",
     "text": [
      "numara giriniz 10\n"
     ]
    },
    {
     "name": "stdout",
     "output_type": "stream",
     "text": [
      "teşekkürler\n",
      "finally çağırıldı\n"
     ]
    }
   ],
   "source": [
    "while True:\n",
    "    try:\n",
    "        benimInt= int(input(\"numara giriniz\"))\n",
    "    except:\n",
    "        print(\"gerçek bir numara giriniz\")\n",
    "    else:\n",
    "        print(\"teşekkürler\")\n",
    "        break\n",
    "    finally:\n",
    "        print(\"finally çağırıldı\")"
   ]
  },
  {
   "cell_type": "code",
   "execution_count": null,
   "id": "9ab14292-b057-4c03-9e5f-bd148ded9d1c",
   "metadata": {},
   "outputs": [],
   "source": []
  }
 ],
 "metadata": {
  "kernelspec": {
   "display_name": "Python 3 (ipykernel)",
   "language": "python",
   "name": "python3"
  },
  "language_info": {
   "codemirror_mode": {
    "name": "ipython",
    "version": 3
   },
   "file_extension": ".py",
   "mimetype": "text/x-python",
   "name": "python",
   "nbconvert_exporter": "python",
   "pygments_lexer": "ipython3",
   "version": "3.12.4"
  }
 },
 "nbformat": 4,
 "nbformat_minor": 5
}
