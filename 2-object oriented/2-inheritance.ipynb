{
 "cells": [
  {
   "cell_type": "markdown",
   "id": "da875857-ea44-489f-84dd-1d5745a8d014",
   "metadata": {},
   "source": [
    "#**Inheritance (Kalıtım)**"
   ]
  },
  {
   "cell_type": "code",
   "execution_count": 5,
   "id": "eeb02597-faf7-4a10-9a52-88d6a8b2ca7a",
   "metadata": {},
   "outputs": [],
   "source": [
    "#bir sınıfın özelliklerini miras almaktır. Bir sınıf içerisindeki bazı özellikleri, başka bir sınıfın içinde kullanmak amacıyla kullanılır"
   ]
  },
  {
   "cell_type": "code",
   "execution_count": 7,
   "id": "3996f46e-a6d6-4080-bb8c-35c3a4992968",
   "metadata": {},
   "outputs": [],
   "source": [
    "class Hayvan():\n",
    "    def __init__(self):\n",
    "        print(\"hayvan sınıfı çağırıldı\")\n",
    "\n",
    "    def method1(self):\n",
    "        print(\"hayvan sınıfı metod 1 çağırıldı\")\n",
    "\n",
    "    def method2(self):\n",
    "        print(\"hayvan sınıfı metod 2 çağırıldı\")"
   ]
  },
  {
   "cell_type": "code",
   "execution_count": 11,
   "id": "a02fe01d-5402-4cfa-84ec-82a0ae58bc0f",
   "metadata": {},
   "outputs": [],
   "source": [
    "class Kedi(Hayvan):\n",
    "    def __init__(self):\n",
    "        print(\"kedi sınıfı oluşturuldu\")"
   ]
  },
  {
   "cell_type": "code",
   "execution_count": 13,
   "id": "a17b74fc-2c09-4df8-a051-46db1cf70031",
   "metadata": {},
   "outputs": [
    {
     "name": "stdout",
     "output_type": "stream",
     "text": [
      "kedi sınıfı oluşturuldu\n"
     ]
    }
   ],
   "source": [
    "benimKedi= Kedi()"
   ]
  },
  {
   "cell_type": "code",
   "execution_count": 15,
   "id": "22e6bace-4b52-4337-8019-0bef7cd0d2e3",
   "metadata": {},
   "outputs": [
    {
     "name": "stdout",
     "output_type": "stream",
     "text": [
      "hayvan sınıfı metod 1 çağırıldı\n"
     ]
    }
   ],
   "source": [
    "benimKedi.method1()"
   ]
  },
  {
   "cell_type": "code",
   "execution_count": null,
   "id": "e015aea4-516f-48ff-8bb1-6b11fe4293d2",
   "metadata": {},
   "outputs": [],
   "source": []
  }
 ],
 "metadata": {
  "kernelspec": {
   "display_name": "Python 3 (ipykernel)",
   "language": "python",
   "name": "python3"
  },
  "language_info": {
   "codemirror_mode": {
    "name": "ipython",
    "version": 3
   },
   "file_extension": ".py",
   "mimetype": "text/x-python",
   "name": "python",
   "nbconvert_exporter": "python",
   "pygments_lexer": "ipython3",
   "version": "3.12.4"
  }
 },
 "nbformat": 4,
 "nbformat_minor": 5
}
