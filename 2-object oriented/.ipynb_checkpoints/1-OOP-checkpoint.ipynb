{
 "cells": [
  {
   "cell_type": "code",
   "execution_count": 1,
   "id": "d4543ef8-f2aa-402b-9cfc-343fa99206ea",
   "metadata": {},
   "outputs": [],
   "source": [
    "benimListem = list()"
   ]
  },
  {
   "cell_type": "code",
   "execution_count": 3,
   "id": "62c8452f-e6e7-4e03-8015-fd03cdfe4e9d",
   "metadata": {},
   "outputs": [
    {
     "data": {
      "text/plain": [
       "list"
      ]
     },
     "execution_count": 3,
     "metadata": {},
     "output_type": "execute_result"
    }
   ],
   "source": [
    "type(benimListem)"
   ]
  },
  {
   "cell_type": "markdown",
   "id": "d02fdeb6-4361-471e-83fd-1914eb522fad",
   "metadata": {},
   "source": [
    "##instance & attribute"
   ]
  },
  {
   "cell_type": "code",
   "execution_count": 6,
   "id": "d488da12-c4b3-451b-9ebe-bdb998288280",
   "metadata": {},
   "outputs": [],
   "source": [
    "superKahramamAdi=\"Ümit Özdağ\"\n",
    "superKahramanYasi = 20\n",
    "superKahramanMeslegi = \"Profesör\""
   ]
  },
  {
   "cell_type": "code",
   "execution_count": 8,
   "id": "72ca1407-1a2b-4cc7-a36b-3c75ecd516d0",
   "metadata": {},
   "outputs": [],
   "source": [
    "#üstteki kullanım çoklu nesneler için anlamsızdır. aynı tipte birden fazla oluşturacaksak class oluturmalıyız:"
   ]
  },
  {
   "cell_type": "code",
   "execution_count": 24,
   "id": "246e7a84-b320-412e-9b4a-a30ba60d8b2e",
   "metadata": {},
   "outputs": [],
   "source": [
    "class SuperKahraman():\n",
    "    def __init__(self, isimInput,yasInput,meslekInput):\n",
    "        self.isim= isimInput\n",
    "        self.yas = yasInput\n",
    "        self.meslek = meslekInput\n",
    "        print(\"init çağırıldı\")"
   ]
  },
  {
   "cell_type": "code",
   "execution_count": 26,
   "id": "47024934-1184-4940-9247-badb1ca76d7c",
   "metadata": {},
   "outputs": [
    {
     "name": "stdout",
     "output_type": "stream",
     "text": [
      "init çağırıldı\n"
     ]
    }
   ],
   "source": [
    "superman = SuperKahraman(\"superman\",30,\"gazeteci\")"
   ]
  },
  {
   "cell_type": "code",
   "execution_count": 30,
   "id": "9287fda5-1cc4-4b82-8568-bf87981954ff",
   "metadata": {},
   "outputs": [
    {
     "data": {
      "text/plain": [
       "'superman'"
      ]
     },
     "execution_count": 30,
     "metadata": {},
     "output_type": "execute_result"
    }
   ],
   "source": [
    "superman.isim"
   ]
  },
  {
   "cell_type": "code",
   "execution_count": 32,
   "id": "15116d9f-7285-4664-8a8b-c81d8485d071",
   "metadata": {},
   "outputs": [],
   "source": [
    "superman.isim = \"clark kent\""
   ]
  },
  {
   "cell_type": "code",
   "execution_count": 34,
   "id": "3e79fff5-64a7-4ae7-868a-01c13257929b",
   "metadata": {},
   "outputs": [
    {
     "data": {
      "text/plain": [
       "'clark kent'"
      ]
     },
     "execution_count": 34,
     "metadata": {},
     "output_type": "execute_result"
    }
   ],
   "source": [
    "superman.isim"
   ]
  },
  {
   "cell_type": "markdown",
   "id": "052bb748-011a-418b-a172-2e54f1ad0667",
   "metadata": {},
   "source": [
    "##metodlar"
   ]
  },
  {
   "cell_type": "code",
   "execution_count": 41,
   "id": "fa277b55-45e3-48f7-b2ea-c16068f662f3",
   "metadata": {},
   "outputs": [],
   "source": [
    "class SuperKahraman():\n",
    "    def __init__(self, isimInput,yasInput,meslekInput):\n",
    "        self.isim= isimInput\n",
    "        self.yas = yasInput\n",
    "        self.meslek = meslekInput\n",
    "        print(\"init çağırıldı\")\n",
    "\n",
    "    def ornekMetod(self):\n",
    "        print(f\"ben süperkahramanım ve mesleğim:{self.meslek}\")"
   ]
  },
  {
   "cell_type": "code",
   "execution_count": 43,
   "id": "59cd9a62-adb4-4388-965d-843be4a1698b",
   "metadata": {},
   "outputs": [
    {
     "name": "stdout",
     "output_type": "stream",
     "text": [
      "init çağırıldı\n"
     ]
    }
   ],
   "source": [
    "superman = SuperKahraman(\"superman\",30,\"gazeteci\")"
   ]
  },
  {
   "cell_type": "code",
   "execution_count": 47,
   "id": "076fee8d-e3e6-41ca-929d-db2244121ca4",
   "metadata": {},
   "outputs": [
    {
     "name": "stdout",
     "output_type": "stream",
     "text": [
      "ben süperkahramanım ve mesleğim:gazeteci\n"
     ]
    }
   ],
   "source": [
    "superman.ornekMetod()"
   ]
  },
  {
   "cell_type": "markdown",
   "id": "178b9937-b185-4dcf-8058-78590201c88d",
   "metadata": {},
   "source": [
    "##default değerler"
   ]
  },
  {
   "cell_type": "code",
   "execution_count": null,
   "id": "9b6942b8-3155-4c80-a55a-7105d718f01f",
   "metadata": {},
   "outputs": [],
   "source": [
    "#class içindeki nesnelere default değer vermek için kullanılır."
   ]
  },
  {
   "cell_type": "code",
   "execution_count": 64,
   "id": "77e70662-7ba9-4c32-998f-215ca261894f",
   "metadata": {},
   "outputs": [],
   "source": [
    "class Kopek():\n",
    "    yilCarpani =7\n",
    "    def __init__(self,yas=5):\n",
    "        self.yas=yas\n",
    "\n",
    "    def insanYasiniHesapla(self):\n",
    "        return self.yas*Kopek.yilCarpani"
   ]
  },
  {
   "cell_type": "code",
   "execution_count": 66,
   "id": "f6bedd24-0e19-4786-8da0-494b63a177f1",
   "metadata": {},
   "outputs": [],
   "source": [
    "benimKopek = Kopek()"
   ]
  },
  {
   "cell_type": "code",
   "execution_count": 68,
   "id": "986d62bc-256c-4c7f-ba60-b15f2e9af95f",
   "metadata": {},
   "outputs": [
    {
     "data": {
      "text/plain": [
       "5"
      ]
     },
     "execution_count": 68,
     "metadata": {},
     "output_type": "execute_result"
    }
   ],
   "source": [
    "benimKopek.yas"
   ]
  },
  {
   "cell_type": "code",
   "execution_count": 70,
   "id": "14a3124d-e159-4e93-bc93-1cb92da388c0",
   "metadata": {},
   "outputs": [
    {
     "data": {
      "text/plain": [
       "35"
      ]
     },
     "execution_count": 70,
     "metadata": {},
     "output_type": "execute_result"
    }
   ],
   "source": [
    "benimKopek.insanYasiniHesapla()"
   ]
  },
  {
   "cell_type": "code",
   "execution_count": null,
   "id": "f168e571-2545-4077-b8f7-72f75f8d71ef",
   "metadata": {},
   "outputs": [],
   "source": []
  }
 ],
 "metadata": {
  "kernelspec": {
   "display_name": "Python 3 (ipykernel)",
   "language": "python",
   "name": "python3"
  },
  "language_info": {
   "codemirror_mode": {
    "name": "ipython",
    "version": 3
   },
   "file_extension": ".py",
   "mimetype": "text/x-python",
   "name": "python",
   "nbconvert_exporter": "python",
   "pygments_lexer": "ipython3",
   "version": "3.12.4"
  }
 },
 "nbformat": 4,
 "nbformat_minor": 5
}
