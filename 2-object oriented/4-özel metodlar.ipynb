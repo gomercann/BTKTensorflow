{
 "cells": [
  {
   "cell_type": "markdown",
   "id": "7468a715-9c27-4132-ba23-ec55f435644c",
   "metadata": {},
   "source": [
    "**ÖZEL METODLAR**"
   ]
  },
  {
   "cell_type": "code",
   "execution_count": 39,
   "id": "112f3ab4-0998-4324-b1f9-8e9f71cbeccc",
   "metadata": {},
   "outputs": [],
   "source": [
    "class Meyve():\n",
    "\n",
    "    def __init__(self,isim,kalori):\n",
    "        self.isim = isim\n",
    "        self.kalori = kalori\n",
    "\n",
    "    def __str__(self):\n",
    "        return f\"{self.isim} şu kadar kaloriye sahiptir: {self.kalori}\"\n",
    "\n",
    "    def __len__(self):\n",
    "        return self.kalori"
   ]
  },
  {
   "cell_type": "code",
   "execution_count": 41,
   "id": "8e0f373b-a727-491c-af0a-5309acc84d72",
   "metadata": {},
   "outputs": [],
   "source": [
    "muz = Meyve(\"muz\",200)"
   ]
  },
  {
   "cell_type": "code",
   "execution_count": 43,
   "id": "18ff6d5d-fd6f-442c-9414-ed8eeaaf947e",
   "metadata": {},
   "outputs": [
    {
     "data": {
      "text/plain": [
       "200"
      ]
     },
     "execution_count": 43,
     "metadata": {},
     "output_type": "execute_result"
    }
   ],
   "source": [
    "muz.kalori"
   ]
  },
  {
   "cell_type": "code",
   "execution_count": 45,
   "id": "2dd8f981-2035-407b-b5b5-814b4dbfcead",
   "metadata": {},
   "outputs": [],
   "source": [
    "benimListem=[1,2,3,4,\"a\",4.5]"
   ]
  },
  {
   "cell_type": "code",
   "execution_count": 47,
   "id": "c223ad00-e6bd-42e8-a3d3-95ed1a5e8205",
   "metadata": {},
   "outputs": [
    {
     "name": "stdout",
     "output_type": "stream",
     "text": [
      "[1, 2, 3, 4, 'a', 4.5]\n"
     ]
    }
   ],
   "source": [
    "print(benimListem)"
   ]
  },
  {
   "cell_type": "code",
   "execution_count": 49,
   "id": "2f35bf02-d44d-49a5-bc6b-c82b985b9a7f",
   "metadata": {},
   "outputs": [
    {
     "data": {
      "text/plain": [
       "6"
      ]
     },
     "execution_count": 49,
     "metadata": {},
     "output_type": "execute_result"
    }
   ],
   "source": [
    "len(benimListem)"
   ]
  },
  {
   "cell_type": "code",
   "execution_count": 51,
   "id": "8dd03009-deeb-4de7-bc9e-d8a4b9edf4c6",
   "metadata": {},
   "outputs": [
    {
     "name": "stdout",
     "output_type": "stream",
     "text": [
      "muz şu kadar kaloriye sahiptir: 200\n"
     ]
    }
   ],
   "source": [
    "print(muz)"
   ]
  },
  {
   "cell_type": "code",
   "execution_count": 53,
   "id": "edf6fe46-0c06-446a-8c7a-a95650ed4192",
   "metadata": {},
   "outputs": [
    {
     "data": {
      "text/plain": [
       "200"
      ]
     },
     "execution_count": 53,
     "metadata": {},
     "output_type": "execute_result"
    }
   ],
   "source": [
    "len(muz)"
   ]
  },
  {
   "cell_type": "code",
   "execution_count": null,
   "id": "d80e8b7b-57f1-472b-9672-8ed1eef91ad8",
   "metadata": {},
   "outputs": [],
   "source": []
  }
 ],
 "metadata": {
  "kernelspec": {
   "display_name": "Python 3 (ipykernel)",
   "language": "python",
   "name": "python3"
  },
  "language_info": {
   "codemirror_mode": {
    "name": "ipython",
    "version": 3
   },
   "file_extension": ".py",
   "mimetype": "text/x-python",
   "name": "python",
   "nbconvert_exporter": "python",
   "pygments_lexer": "ipython3",
   "version": "3.12.4"
  }
 },
 "nbformat": 4,
 "nbformat_minor": 5
}
