{
 "cells": [
  {
   "cell_type": "markdown",
   "id": "07ce9502-d9ed-4489-b41c-c530028c6a91",
   "metadata": {},
   "source": [
    "## RANDOM\n",
    "Bu python kodunun amacı random komutunu öğretmek ve alıştırmalar yapmaktır.\n",
    "\n",
    "random fonksiyonu rastgele değer oluşturmaya yarar."
   ]
  },
  {
   "cell_type": "code",
   "execution_count": 45,
   "id": "6847c387-420d-4406-b856-49d15600fc7f",
   "metadata": {},
   "outputs": [],
   "source": [
    "from random import randint;"
   ]
  },
  {
   "cell_type": "code",
   "execution_count": 49,
   "id": "c8acd89b-8a8e-426a-8ab8-2ea9550acd5a",
   "metadata": {},
   "outputs": [
    {
     "data": {
      "text/plain": [
       "6881"
      ]
     },
     "execution_count": 49,
     "metadata": {},
     "output_type": "execute_result"
    }
   ],
   "source": [
    "randint(5,9999)"
   ]
  },
  {
   "cell_type": "code",
   "execution_count": 51,
   "id": "a86da3d4-8f49-4a2e-90a8-19ea4874f1e0",
   "metadata": {},
   "outputs": [],
   "source": [
    "yeniListe = list(range(0,20))"
   ]
  },
  {
   "cell_type": "code",
   "execution_count": 53,
   "id": "96469740-c1eb-4622-a812-15f6d43adf72",
   "metadata": {},
   "outputs": [
    {
     "data": {
      "text/plain": [
       "[0, 1, 2, 3, 4, 5, 6, 7, 8, 9, 10, 11, 12, 13, 14, 15, 16, 17, 18, 19]"
      ]
     },
     "execution_count": 53,
     "metadata": {},
     "output_type": "execute_result"
    }
   ],
   "source": [
    "yeniListe"
   ]
  },
  {
   "cell_type": "code",
   "execution_count": 55,
   "id": "a15d0242-0c67-4aff-a9a4-2b8c2721df5a",
   "metadata": {},
   "outputs": [
    {
     "data": {
      "text/plain": [
       "0"
      ]
     },
     "execution_count": 55,
     "metadata": {},
     "output_type": "execute_result"
    }
   ],
   "source": [
    "yeniListe[randint(0,20)]"
   ]
  },
  {
   "cell_type": "code",
   "execution_count": 57,
   "id": "30bfc791-4c98-4c17-8b19-c7518b68e1af",
   "metadata": {},
   "outputs": [],
   "source": [
    "#shuffle liste içindeki elemanları karıştırmaya yarar\n",
    "from random import shuffle"
   ]
  },
  {
   "cell_type": "code",
   "execution_count": 59,
   "id": "98098652-38ce-4f44-a845-b8554cb5af5a",
   "metadata": {},
   "outputs": [],
   "source": [
    "shuffle(yeniListe)"
   ]
  },
  {
   "cell_type": "code",
   "execution_count": 61,
   "id": "6a1d1fbe-186a-468b-971d-41c29cf98e39",
   "metadata": {},
   "outputs": [
    {
     "data": {
      "text/plain": [
       "[10, 18, 17, 16, 4, 0, 7, 2, 14, 19, 1, 12, 8, 3, 6, 5, 15, 9, 11, 13]"
      ]
     },
     "execution_count": 61,
     "metadata": {},
     "output_type": "execute_result"
    }
   ],
   "source": [
    "yeniListe"
   ]
  },
  {
   "cell_type": "code",
   "execution_count": null,
   "id": "a2ac719b-f763-400c-bbc3-3b8822faaead",
   "metadata": {},
   "outputs": [],
   "source": []
  }
 ],
 "metadata": {
  "kernelspec": {
   "display_name": "Python 3 (ipykernel)",
   "language": "python",
   "name": "python3"
  },
  "language_info": {
   "codemirror_mode": {
    "name": "ipython",
    "version": 3
   },
   "file_extension": ".py",
   "mimetype": "text/x-python",
   "name": "python",
   "nbconvert_exporter": "python",
   "pygments_lexer": "ipython3",
   "version": "3.12.4"
  }
 },
 "nbformat": 4,
 "nbformat_minor": 5
}
