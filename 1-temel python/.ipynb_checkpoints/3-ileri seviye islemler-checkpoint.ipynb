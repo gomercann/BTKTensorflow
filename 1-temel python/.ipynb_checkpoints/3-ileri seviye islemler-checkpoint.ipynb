{
 "cells": [
  {
   "cell_type": "markdown",
   "id": "1d11ebd4-ece1-4542-bc5d-16b81cecd302",
   "metadata": {},
   "source": [
    "## İLERİ SEVİYE İŞLEMLER"
   ]
  },
  {
   "cell_type": "code",
   "execution_count": 5,
   "id": "95af7f27-9f90-4922-a344-249b8ac4dcc3",
   "metadata": {},
   "outputs": [],
   "source": [
    "#zip: \n",
    "#birden fazla listeyi birleştirmek amacıyla kullanılan komuttur."
   ]
  },
  {
   "cell_type": "code",
   "execution_count": 7,
   "id": "e4c2caea-95b2-4b9d-8b36-af64c804d2e9",
   "metadata": {},
   "outputs": [],
   "source": [
    "isimListesi = [\"ali\" , \"ayse\", \"fatma\"]\n",
    "gunListesi = [\"pazartesi\",\"sali\", \"carsamba\"]\n",
    "saatListesi = [4,8,10]"
   ]
  },
  {
   "cell_type": "code",
   "execution_count": 9,
   "id": "a8ec105b-c8b1-4e83-aa81-b55b1026af52",
   "metadata": {},
   "outputs": [],
   "source": [
    "ziplenmis = list(zip(isimListesi, gunListesi, saatListesi))"
   ]
  },
  {
   "cell_type": "code",
   "execution_count": 11,
   "id": "0fecbd05-8e83-4611-bff6-e31568b6a880",
   "metadata": {},
   "outputs": [
    {
     "name": "stdout",
     "output_type": "stream",
     "text": [
      "<class 'tuple'>\n",
      "<class 'tuple'>\n",
      "<class 'tuple'>\n"
     ]
    }
   ],
   "source": [
    "for eleman in ziplenmis:\n",
    "    print(type(eleman))"
   ]
  },
  {
   "cell_type": "code",
   "execution_count": 13,
   "id": "b0e10014-7eb4-4e51-a051-353176218c9f",
   "metadata": {},
   "outputs": [
    {
     "data": {
      "text/plain": [
       "[('ali', 'pazartesi', 4), ('ayse', 'sali', 8), ('fatma', 'carsamba', 10)]"
      ]
     },
     "execution_count": 13,
     "metadata": {},
     "output_type": "execute_result"
    }
   ],
   "source": [
    "ziplenmis"
   ]
  },
  {
   "cell_type": "code",
   "execution_count": 15,
   "id": "eab8032f-b7dc-48b5-a222-5ad41da94de9",
   "metadata": {},
   "outputs": [],
   "source": [
    "#ileri seviye listeler"
   ]
  },
  {
   "cell_type": "code",
   "execution_count": 19,
   "id": "c627359b-9f6c-47ee-bc36-329802de5a73",
   "metadata": {},
   "outputs": [],
   "source": [
    "liste =[]\n",
    "stringim = \"gokhan mercan\"\n",
    "\n",
    "for harf in stringim:\n",
    "    liste.append(harf)"
   ]
  },
  {
   "cell_type": "code",
   "execution_count": 21,
   "id": "645939a1-d443-4340-883a-1e9b78c4ce0b",
   "metadata": {},
   "outputs": [
    {
     "data": {
      "text/plain": [
       "['g', 'o', 'k', 'h', 'a', 'n', ' ', 'm', 'e', 'r', 'c', 'a', 'n']"
      ]
     },
     "execution_count": 21,
     "metadata": {},
     "output_type": "execute_result"
    }
   ],
   "source": [
    "liste"
   ]
  },
  {
   "cell_type": "code",
   "execution_count": 23,
   "id": "51880e15-417a-410a-9bf2-686182fd1053",
   "metadata": {},
   "outputs": [],
   "source": [
    "yeniListeOrnegi = [eleman for eleman in stringim]"
   ]
  },
  {
   "cell_type": "code",
   "execution_count": 25,
   "id": "45fb17f4-9659-4a1f-9465-978201675ba9",
   "metadata": {},
   "outputs": [
    {
     "data": {
      "text/plain": [
       "['g', 'o', 'k', 'h', 'a', 'n', ' ', 'm', 'e', 'r', 'c', 'a', 'n']"
      ]
     },
     "execution_count": 25,
     "metadata": {},
     "output_type": "execute_result"
    }
   ],
   "source": [
    "yeniListeOrnegi"
   ]
  },
  {
   "cell_type": "code",
   "execution_count": 29,
   "id": "9bb1ed03-b410-4c37-b216-fa25b09d256c",
   "metadata": {},
   "outputs": [],
   "source": [
    "ikinciListeOrnegi = [numara*5 for numara in list(range(0,10))]"
   ]
  },
  {
   "cell_type": "code",
   "execution_count": 31,
   "id": "7ea7d69b-b828-4d9f-aecf-d693733287db",
   "metadata": {},
   "outputs": [
    {
     "data": {
      "text/plain": [
       "[0, 5, 10, 15, 20, 25, 30, 35, 40, 45]"
      ]
     },
     "execution_count": 31,
     "metadata": {},
     "output_type": "execute_result"
    }
   ],
   "source": [
    "ikinciListeOrnegi"
   ]
  },
  {
   "cell_type": "code",
   "execution_count": null,
   "id": "6d2cd1a7-bc2b-4554-aa3f-527e08ef68f4",
   "metadata": {},
   "outputs": [],
   "source": []
  }
 ],
 "metadata": {
  "kernelspec": {
   "display_name": "Python 3 (ipykernel)",
   "language": "python",
   "name": "python3"
  },
  "language_info": {
   "codemirror_mode": {
    "name": "ipython",
    "version": 3
   },
   "file_extension": ".py",
   "mimetype": "text/x-python",
   "name": "python",
   "nbconvert_exporter": "python",
   "pygments_lexer": "ipython3",
   "version": "3.12.4"
  }
 },
 "nbformat": 4,
 "nbformat_minor": 5
}
