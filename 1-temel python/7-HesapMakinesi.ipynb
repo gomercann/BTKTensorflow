{
 "cells": [
  {
   "cell_type": "markdown",
   "id": "0dbfc456-a2dd-41e9-8215-72e4afd50df9",
   "metadata": {},
   "source": [
    "##Hesap Makinesi"
   ]
  },
  {
   "cell_type": "code",
   "execution_count": null,
   "id": "ac6bb25a-8704-4b1b-88f2-770858f16f83",
   "metadata": {},
   "outputs": [],
   "source": [
    "a=input(\"ilk sayi\")\n",
    "b=input(\"ikinci sayi\")\n",
    "islem = input(\"islem cesidini seçiniz : +-/*\")\n",
    "\n",
    "def hesapla(a,b,islem):\n",
    "    if islem == \"+\":\n",
    "        return a+b\n",
    "    else if "
   ]
  }
 ],
 "metadata": {
  "kernelspec": {
   "display_name": "Python 3 (ipykernel)",
   "language": "python",
   "name": "python3"
  },
  "language_info": {
   "codemirror_mode": {
    "name": "ipython",
    "version": 3
   },
   "file_extension": ".py",
   "mimetype": "text/x-python",
   "name": "python",
   "nbconvert_exporter": "python",
   "pygments_lexer": "ipython3",
   "version": "3.12.4"
  }
 },
 "nbformat": 4,
 "nbformat_minor": 5
}
