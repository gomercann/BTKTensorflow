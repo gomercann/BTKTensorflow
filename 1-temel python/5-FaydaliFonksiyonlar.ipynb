{
 "cells": [
  {
   "cell_type": "code",
   "execution_count": 21,
   "id": "4ae8b573-923b-4946-9d50-780f76235948",
   "metadata": {},
   "outputs": [],
   "source": [
    "def bolmeIslemi(numara):\n",
    "    return numara/2"
   ]
  },
  {
   "cell_type": "code",
   "execution_count": 23,
   "id": "fdd0c2c2-ad29-4701-8e1c-07285c87cc5b",
   "metadata": {},
   "outputs": [
    {
     "data": {
      "text/plain": [
       "10.0"
      ]
     },
     "execution_count": 23,
     "metadata": {},
     "output_type": "execute_result"
    }
   ],
   "source": [
    "bolmeIslemi(20)"
   ]
  },
  {
   "cell_type": "code",
   "execution_count": 27,
   "id": "50e35f8e-518c-4303-acd6-8e108e6fead0",
   "metadata": {},
   "outputs": [],
   "source": [
    "benimListem=[1,2,3,4,5,6,7,8,9,10]"
   ]
  },
  {
   "cell_type": "code",
   "execution_count": 31,
   "id": "27de0f26-658e-4f1b-80e2-7d5766e61c1a",
   "metadata": {},
   "outputs": [],
   "source": [
    "yeniListe =[]\n",
    "for eleman in benimListem:\n",
    "    yeniListe.append(bolmeIslemi(eleman))"
   ]
  },
  {
   "cell_type": "code",
   "execution_count": 33,
   "id": "d1a70f7f-5957-4ef0-9942-7102e47b28fa",
   "metadata": {},
   "outputs": [
    {
     "data": {
      "text/plain": [
       "[0.5, 1.0, 1.5, 2.0, 2.5, 3.0, 3.5, 4.0, 4.5, 5.0]"
      ]
     },
     "execution_count": 33,
     "metadata": {},
     "output_type": "execute_result"
    }
   ],
   "source": [
    "yeniListe"
   ]
  },
  {
   "cell_type": "markdown",
   "id": "334afb5a-a229-4a3f-97d9-497ef48492da",
   "metadata": {},
   "source": [
    "##MAP"
   ]
  },
  {
   "cell_type": "code",
   "execution_count": 36,
   "id": "b22acd86-a349-4a0b-b86c-f131712216b9",
   "metadata": {},
   "outputs": [
    {
     "data": {
      "text/plain": [
       "<map at 0x23db8c73d00>"
      ]
     },
     "execution_count": 36,
     "metadata": {},
     "output_type": "execute_result"
    }
   ],
   "source": [
    "map(bolmeIslemi,benimListem)"
   ]
  },
  {
   "cell_type": "code",
   "execution_count": 38,
   "id": "e2624de7-c35b-4e54-a120-bb4d0a26e893",
   "metadata": {},
   "outputs": [
    {
     "data": {
      "text/plain": [
       "[0.5, 1.0, 1.5, 2.0, 2.5, 3.0, 3.5, 4.0, 4.5, 5.0]"
      ]
     },
     "execution_count": 38,
     "metadata": {},
     "output_type": "execute_result"
    }
   ],
   "source": [
    "list(map(bolmeIslemi,benimListem))"
   ]
  },
  {
   "cell_type": "markdown",
   "id": "1efb4990-e6a4-480c-ae52-4b034f1ab19d",
   "metadata": {},
   "source": [
    "##FILTER"
   ]
  },
  {
   "cell_type": "code",
   "execution_count": 41,
   "id": "f6a6f89c-0fe8-4494-938d-b73976ac9d8f",
   "metadata": {},
   "outputs": [
    {
     "ename": "NameError",
     "evalue": "name 'sdfhdsfh' is not defined",
     "output_type": "error",
     "traceback": [
      "\u001b[1;31m---------------------------------------------------------------------------\u001b[0m",
      "\u001b[1;31mNameError\u001b[0m                                 Traceback (most recent call last)",
      "Cell \u001b[1;32mIn[41], line 1\u001b[0m\n\u001b[1;32m----> 1\u001b[0m sdfhdsfh\n",
      "\u001b[1;31mNameError\u001b[0m: name 'sdfhdsfh' is not defined"
     ]
    }
   ],
   "source": [
    "sdfhdsfh"
   ]
  },
  {
   "cell_type": "code",
   "execution_count": 43,
   "id": "7e955076-3309-475c-966e-2252572893c6",
   "metadata": {},
   "outputs": [],
   "source": [
    "#lambda"
   ]
  },
  {
   "cell_type": "code",
   "execution_count": 47,
   "id": "1293222e-484e-4129-a1d8-15727693482c",
   "metadata": {},
   "outputs": [],
   "source": [
    "carpma= lambda numara :numara*3"
   ]
  },
  {
   "cell_type": "code",
   "execution_count": 49,
   "id": "cdb076b2-e2ec-44c0-9e53-93f7b80b3bac",
   "metadata": {},
   "outputs": [
    {
     "data": {
      "text/plain": [
       "30"
      ]
     },
     "execution_count": 49,
     "metadata": {},
     "output_type": "execute_result"
    }
   ],
   "source": [
    "carpma(10)"
   ]
  },
  {
   "cell_type": "code",
   "execution_count": 51,
   "id": "0091fc3a-1c1d-45bb-9d4f-ee177f143390",
   "metadata": {},
   "outputs": [],
   "source": [
    "ornekListe = [10,20,30]"
   ]
  },
  {
   "cell_type": "code",
   "execution_count": 55,
   "id": "efb14c0a-9477-41a5-85c2-c983123a08a9",
   "metadata": {},
   "outputs": [
    {
     "data": {
      "text/plain": [
       "[40, 80, 120]"
      ]
     },
     "execution_count": 55,
     "metadata": {},
     "output_type": "execute_result"
    }
   ],
   "source": [
    "list(map(lambda numara : numara*4, ornekListe))"
   ]
  },
  {
   "cell_type": "code",
   "execution_count": null,
   "id": "0667d777-b4b1-425a-87ab-a3186fb687b4",
   "metadata": {},
   "outputs": [],
   "source": []
  }
 ],
 "metadata": {
  "kernelspec": {
   "display_name": "Python 3 (ipykernel)",
   "language": "python",
   "name": "python3"
  },
  "language_info": {
   "codemirror_mode": {
    "name": "ipython",
    "version": 3
   },
   "file_extension": ".py",
   "mimetype": "text/x-python",
   "name": "python",
   "nbconvert_exporter": "python",
   "pygments_lexer": "ipython3",
   "version": "3.12.4"
  }
 },
 "nbformat": 4,
 "nbformat_minor": 5
}
