{
 "cells": [
  {
   "cell_type": "markdown",
   "id": "b4becc17-ef2b-4b53-9a5a-c70d1942b4a9",
   "metadata": {},
   "source": [
    "##SCOPE"
   ]
  },
  {
   "cell_type": "code",
   "execution_count": 2,
   "id": "c4fb3276-50c7-43fe-80b4-194ae779e03a",
   "metadata": {},
   "outputs": [],
   "source": [
    "numara = 20\n",
    "\n",
    "def carpma(rakam):\n",
    "    numara =10\n",
    "    return numara*rakam"
   ]
  },
  {
   "cell_type": "code",
   "execution_count": 4,
   "id": "b608c582-9a8d-4256-85af-19247bbc8aeb",
   "metadata": {},
   "outputs": [
    {
     "data": {
      "text/plain": [
       "50"
      ]
     },
     "execution_count": 4,
     "metadata": {},
     "output_type": "execute_result"
    }
   ],
   "source": [
    "carpma(5)"
   ]
  },
  {
   "cell_type": "code",
   "execution_count": 6,
   "id": "a71948e9-4d26-4f5f-b3d7-8006e83a85e7",
   "metadata": {},
   "outputs": [
    {
     "name": "stdout",
     "output_type": "stream",
     "text": [
      "20\n"
     ]
    }
   ],
   "source": [
    "print(numara)"
   ]
  },
  {
   "cell_type": "code",
   "execution_count": 8,
   "id": "e9015992-523a-43ae-b505-7c9efcda00bd",
   "metadata": {},
   "outputs": [],
   "source": [
    "##Local, Enclosing, Global, Built-In"
   ]
  },
  {
   "cell_type": "code",
   "execution_count": 14,
   "id": "c4cbdde3-2c36-4969-8ed6-86866c9cf17b",
   "metadata": {},
   "outputs": [],
   "source": [
    "myName = \"gökhan\"\n",
    "#global\n",
    "\n",
    "def benimFonksiyon():\n",
    "    myName = \"ahmet\"\n",
    "    #enclosing\n",
    "    def icFonksiyon():\n",
    "        myName = \"osman\"\n",
    "        #local\n",
    "        print(myName)\n",
    "    icFonksiyon()"
   ]
  },
  {
   "cell_type": "code",
   "execution_count": 12,
   "id": "095470a5-7306-42ab-841f-ffb3c3bec7f7",
   "metadata": {},
   "outputs": [
    {
     "name": "stdout",
     "output_type": "stream",
     "text": [
      "osman\n"
     ]
    }
   ],
   "source": [
    "benimFonksiyon()"
   ]
  },
  {
   "cell_type": "code",
   "execution_count": null,
   "id": "f4a091d4-f19e-46f9-94e7-158a2fb40252",
   "metadata": {},
   "outputs": [],
   "source": []
  }
 ],
 "metadata": {
  "kernelspec": {
   "display_name": "Python 3 (ipykernel)",
   "language": "python",
   "name": "python3"
  },
  "language_info": {
   "codemirror_mode": {
    "name": "ipython",
    "version": 3
   },
   "file_extension": ".py",
   "mimetype": "text/x-python",
   "name": "python",
   "nbconvert_exporter": "python",
   "pygments_lexer": "ipython3",
   "version": "3.12.4"
  }
 },
 "nbformat": 4,
 "nbformat_minor": 5
}
