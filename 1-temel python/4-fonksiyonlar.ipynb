{
 "cells": [
  {
   "cell_type": "markdown",
   "id": "fdc9a84f-7134-4451-848e-caa2e4b2d015",
   "metadata": {},
   "source": [
    "##FONKSİYONLAR"
   ]
  },
  {
   "cell_type": "code",
   "execution_count": 34,
   "id": "96b9e718-1702-43bf-83eb-f35f669fa72a",
   "metadata": {},
   "outputs": [],
   "source": [
    "mayNeym = \"gomercan\""
   ]
  },
  {
   "cell_type": "code",
   "execution_count": 36,
   "id": "aae46c23-ae8e-4fc8-81bf-ed167ddeda74",
   "metadata": {},
   "outputs": [
    {
     "data": {
      "text/plain": [
       "'GOMERCAN'"
      ]
     },
     "execution_count": 36,
     "metadata": {},
     "output_type": "execute_result"
    }
   ],
   "source": [
    "mayNeym.upper()"
   ]
  },
  {
   "cell_type": "code",
   "execution_count": 44,
   "id": "5ad2dcb0-810f-4fe3-a47e-43a418467905",
   "metadata": {},
   "outputs": [],
   "source": [
    "def ilkFonksiyon():\n",
    "    print(\"ilk fonksiyonum\")"
   ]
  },
  {
   "cell_type": "code",
   "execution_count": 46,
   "id": "0ba6dd64-cb08-4bdf-965c-7a817261c936",
   "metadata": {},
   "outputs": [
    {
     "name": "stdout",
     "output_type": "stream",
     "text": [
      "ilk fonksiyonum\n"
     ]
    }
   ],
   "source": [
    "ilkFonksiyon()"
   ]
  },
  {
   "cell_type": "markdown",
   "id": "2cd52e9f-b48d-497c-a3d9-4bac7b0a1272",
   "metadata": {},
   "source": [
    "##args & kwargs"
   ]
  },
  {
   "cell_type": "code",
   "execution_count": 1,
   "id": "715ba80e-dc7a-4f1e-8fcd-343f9eb25b72",
   "metadata": {},
   "outputs": [],
   "source": [
    "def yeniToplama(*args):\n",
    "    return sum(args)\n"
   ]
  },
  {
   "cell_type": "code",
   "execution_count": 3,
   "id": "51d83a33-d3c6-4de0-a94d-08d6af528b29",
   "metadata": {},
   "outputs": [
    {
     "data": {
      "text/plain": [
       "210"
      ]
     },
     "execution_count": 3,
     "metadata": {},
     "output_type": "execute_result"
    }
   ],
   "source": [
    "yeniToplama(10,20,30,40,50,60)"
   ]
  },
  {
   "cell_type": "code",
   "execution_count": 7,
   "id": "d618013c-0484-482c-b4f2-ba7ba4818279",
   "metadata": {},
   "outputs": [],
   "source": [
    "def benimFonksiyonum(*args):\n",
    "    print(args)\n",
    "    return args"
   ]
  },
  {
   "cell_type": "code",
   "execution_count": 9,
   "id": "c25946f0-182b-4fb9-9b79-2deaf0df6bd2",
   "metadata": {},
   "outputs": [
    {
     "name": "stdout",
     "output_type": "stream",
     "text": [
      "(40, 50)\n"
     ]
    },
    {
     "data": {
      "text/plain": [
       "tuple"
      ]
     },
     "execution_count": 9,
     "metadata": {},
     "output_type": "execute_result"
    }
   ],
   "source": [
    "type(benimFonksiyonum(40,50))"
   ]
  },
  {
   "cell_type": "code",
   "execution_count": 11,
   "id": "92885f9c-70ea-48fa-8b65-f57c712f7e18",
   "metadata": {},
   "outputs": [],
   "source": [
    "def ornekFonksiyon(**kwargs):\n",
    "    print (kwargs)"
   ]
  },
  {
   "cell_type": "code",
   "execution_count": 13,
   "id": "ea4355ca-7eee-4562-a116-469c3b724d8d",
   "metadata": {},
   "outputs": [
    {
     "name": "stdout",
     "output_type": "stream",
     "text": [
      "{'muz': 100, 'elma': 200, 'ananas': 300}\n"
     ]
    }
   ],
   "source": [
    "ornekFonksiyon(muz=100, elma=200, ananas=300)"
   ]
  },
  {
   "cell_type": "code",
   "execution_count": 19,
   "id": "33b9736b-f94a-4124-b0c8-2ddf99f50ed0",
   "metadata": {},
   "outputs": [
    {
     "name": "stdout",
     "output_type": "stream",
     "text": [
      "{'muz': 100, 'elma': 200}\n"
     ]
    },
    {
     "data": {
      "text/plain": [
       "NoneType"
      ]
     },
     "execution_count": 19,
     "metadata": {},
     "output_type": "execute_result"
    }
   ],
   "source": [
    "type(ornekFonksiyon(muz=100, elma=200))"
   ]
  },
  {
   "cell_type": "code",
   "execution_count": null,
   "id": "73b6a955-dd86-4981-b47c-c9e54a806e80",
   "metadata": {},
   "outputs": [],
   "source": []
  }
 ],
 "metadata": {
  "kernelspec": {
   "display_name": "Python 3 (ipykernel)",
   "language": "python",
   "name": "python3"
  },
  "language_info": {
   "codemirror_mode": {
    "name": "ipython",
    "version": 3
   },
   "file_extension": ".py",
   "mimetype": "text/x-python",
   "name": "python",
   "nbconvert_exporter": "python",
   "pygments_lexer": "ipython3",
   "version": "3.12.4"
  }
 },
 "nbformat": 4,
 "nbformat_minor": 5
}
